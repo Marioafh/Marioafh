{
  "nbformat": 4,
  "nbformat_minor": 0,
  "metadata": {
    "colab": {
      "provenance": [],
      "authorship_tag": "ABX9TyPrqPhJdIknZMo3d8ZZ2ZIC",
      "include_colab_link": true
    },
    "kernelspec": {
      "name": "python3",
      "display_name": "Python 3"
    },
    "language_info": {
      "name": "python"
    }
  },
  "cells": [
    {
      "cell_type": "markdown",
      "metadata": {
        "id": "view-in-github",
        "colab_type": "text"
      },
      "source": [
        "<a href=\"https://colab.research.google.com/github/Marioafh/Marioafh/blob/main/Untitled1.ipynb\" target=\"_parent\"><img src=\"https://colab.research.google.com/assets/colab-badge.svg\" alt=\"Open In Colab\"/></a>"
      ]
    },
    {
      "cell_type": "code",
      "execution_count": null,
      "metadata": {
        "colab": {
          "base_uri": "https://localhost:8080/"
        },
        "id": "000qWmy2afEn",
        "outputId": "78778653-6385-4d52-ba91-b20cbb55ada7"
      },
      "outputs": [
        {
          "output_type": "stream",
          "name": "stdout",
          "text": [
            "El grafo es un árbol: False\n"
          ]
        }
      ],
      "source": [
        "class Graph:\n",
        "    VISITED = 1\n",
        "    UNVISITED = 0\n",
        "\n",
        "    def __init__(self, n):\n",
        "        self.n = n\n",
        "        self.adj = [[] for _ in range(self.n)]\n",
        "        self.dfs_state = [Graph.UNVISITED for _ in range(self.n)]\n",
        "\n",
        "    def add_edge(self, i, j):\n",
        "        self.adj[i].append(j)\n",
        "\n",
        "    def add_bidirectional_edge(self, i, j):\n",
        "        self.add_edge(i, j)\n",
        "        self.add_edge(j, i)\n",
        "\n",
        "    def is_reachable(self, source, target):\n",
        "        self.dfs_state = [Graph.UNVISITED for _ in range(self.n)]\n",
        "        self.dfs(source)\n",
        "        return self.dfs_state[target] == Graph.VISITED\n",
        "\n",
        "    def dfs(self, i):\n",
        "        self.dfs_state[i] = Graph.VISITED\n",
        "        for j in self.adj[i]:\n",
        "            if self.dfs_state[j] == Graph.UNVISITED:\n",
        "                self.dfs(j)\n",
        "\n",
        "    def is_a_tree(self):\n",
        "\n",
        "        num_edges = sum(len(adj_list) for adj_list in self.adj) // 2\n",
        "        if num_edges != self.n - 1:\n",
        "            return False\n",
        "\n",
        "\n",
        "        self.dfs_state = [Graph.UNVISITED for _ in range(self.n)]\n",
        "        self.dfs(0)\n",
        "        if sum(state == Graph.UNVISITED for state in self.dfs_state) > 0:\n",
        "            return False\n",
        "\n",
        "        return True\n",
        "\n",
        "\n",
        "with open(\"grafo 3 - NO ES UN ARBOL.txt\", \"r\") as file:\n",
        "    line = file.readline().split()\n",
        "    n = int(line[0])  # Número de nodos\n",
        "    e = int(line[1])  # Número de aristas\n",
        "\n",
        "    graph = Graph(n)\n",
        "\n",
        "    for i in range(e):\n",
        "        edge = file.readline().split()\n",
        "        a = int(edge[0])\n",
        "        b = int(edge[1])\n",
        "        graph.add_bidirectional_edge(a, b)\n",
        "\n",
        "\n",
        "print(\"El grafo es un árbol:\", graph.is_a_tree())\n"
      ]
    },
    {
      "cell_type": "code",
      "source": [],
      "metadata": {
        "id": "ZFuYKYhmqvnf"
      },
      "execution_count": null,
      "outputs": []
    }
  ]
}